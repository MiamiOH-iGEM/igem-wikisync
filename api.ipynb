{
 "cells": [
  {
   "cell_type": "code",
   "execution_count": 1,
   "metadata": {},
   "outputs": [],
   "source": [
    "from requests.adapters import HTTPAdapter\n",
    "from requests.packages.urllib3.poolmanager import PoolManager\n",
    "import ssl\n",
    "import mechanicalsoup\n",
    "from bs4 import BeautifulSoup\n",
    "import os\n",
    "import yaml\n",
    "import re\n",
    "from datetime import datetime"
   ]
  },
  {
   "cell_type": "code",
   "execution_count": 2,
   "metadata": {},
   "outputs": [],
   "source": [
    "# https://bitbucket.org/cthedot/cssutils/issues/60/using-units-of-rem-produces-an-invalid\n",
    "\n",
    "from cssutils import profile\n",
    "profile._MACROS['length'] = r'0|{num}(em|ex|px|in|cm|mm|pt|pc|q|ch|rem|vw|vh|vmin|vmax)'\n",
    "profile._MACROS['positivelength'] = r'0|{positivenum}(em|ex|px|in|cm|mm|pt|pc|q|ch|rem|vw|vh|vmin|vmax)'\n",
    "profile._MACROS['angle'] = r'0|{num}(deg|grad|rad|turn)'\n",
    "profile._resetProperties()"
   ]
  },
  {
   "cell_type": "code",
   "execution_count": 3,
   "metadata": {},
   "outputs": [],
   "source": [
    "class MyAdapter(HTTPAdapter):\n",
    "    def init_poolmanager(self, connections, maxsize, block=False):\n",
    "        self.poolmanager = PoolManager(num_pools=connections,\n",
    "                                       maxsize=maxsize,\n",
    "                                       block=block,\n",
    "                                       ssl_version=ssl.PROTOCOL_TLSv1)\n"
   ]
  },
  {
   "cell_type": "code",
   "execution_count": 4,
   "metadata": {},
   "outputs": [],
   "source": [
    "with open('config.yml', 'r') as file:\n",
    "    config = yaml.safe_load(file)\n",
    "\n",
    "team = config['team']\n",
    "src_dir = config['src_dir']\n",
    "build_dir = config['build_dir']\n"
   ]
  },
  {
   "cell_type": "code",
   "execution_count": 5,
   "metadata": {},
   "outputs": [],
   "source": [
    "username = 'ballaneypranav'\n",
    "password = 'xWTs5wUKxb2Njx'"
   ]
  },
  {
   "cell_type": "code",
   "execution_count": 6,
   "metadata": {
    "tags": []
   },
   "outputs": [
    {
     "output_type": "stream",
     "name": "stdout",
     "text": "You have successfully logged into the iGEM web sites.\n"
    }
   ],
   "source": [
    "browser = mechanicalsoup.StatefulBrowser()\n",
    "browser.open(\"https://igem.org/Login2\")\n",
    "browser.select_form('form[method=\"post\"]')\n",
    "browser[\"username\"] = username\n",
    "browser[\"password\"] = password\n",
    "response = browser.submit_selected()\n",
    "\n",
    "soup = BeautifulSoup(response.text, 'html.parser')\n",
    "print(soup.text)"
   ]
  },
  {
   "cell_type": "code",
   "execution_count": 54,
   "metadata": {},
   "outputs": [
    {
     "output_type": "execute_result",
     "data": {
      "text/plain": "<Response [200]>"
     },
     "metadata": {},
     "execution_count": 54
    }
   ],
   "source": [
    "browser.open('https://2020.igem.org/Special:Upload')"
   ]
  },
  {
   "cell_type": "code",
   "execution_count": 55,
   "metadata": {
    "tags": []
   },
   "outputs": [
    {
     "output_type": "stream",
     "name": "stdout",
     "text": "<input id=\"wpUploadFile\" name=\"wpUploadFile\" size=\"60\" type=\"file\"/>\n<input class=\"mw-ui-input\" id=\"wpDestFile\" name=\"wpDestFile\" size=\"60\"/>\n<textarea class=\"mw-ui-input\" cols=\"80\" id=\"wpUploadDescription\" name=\"wpUploadDescription\" rows=\"8\"></textarea>\n<select id=\"wpLicense\" name=\"wpLicense\"><option selected=\"selected\" value=\"\">None selected</option>\n</select>\n<input checked=\"checked\" id=\"wpWatchthis\" name=\"wpWatchthis\" type=\"checkbox\" value=\"1\"/>\n<input id=\"wpIgnoreWarning\" name=\"wpIgnoreWarning\" type=\"checkbox\" value=\"1\"/>\n<input id=\"wpEditToken\" name=\"wpEditToken\" type=\"hidden\" value=\"7a97da4551aa39c04cf0f4513f73b943+\\\"/>\n<input name=\"title\" type=\"hidden\" value=\"Special:Upload\"/>\n<input id=\"wpDestFileWarningAck\" name=\"wpDestFileWarningAck\" type=\"hidden\"/>\n<input accesskey=\"s\" class=\"mw-htmlform-submit\" name=\"wpUpload\" title=\"Start upload [s]\" type=\"submit\" value=\"Upload file\"/>\n"
    }
   ],
   "source": [
    "browser.select_form('form')\n",
    "browser.get_current_form().print_summary()"
   ]
  },
  {
   "cell_type": "code",
   "execution_count": 56,
   "metadata": {},
   "outputs": [],
   "source": [
    "browser['wpUploadFile'] = 'dist/assets/img/logo.jpg'\n",
    "browser['wpDestFile'] = 'T--BITSPilani-Goa_India--logo.jpg'\n",
    "browser['wpIgnoreWarning'] = \"1\""
   ]
  },
  {
   "cell_type": "code",
   "execution_count": 57,
   "metadata": {},
   "outputs": [],
   "source": [
    "response = browser.submit_selected()"
   ]
  },
  {
   "cell_type": "code",
   "execution_count": 58,
   "metadata": {
    "tags": []
   },
   "outputs": [
    {
     "output_type": "stream",
     "name": "stdout",
     "text": "<Response [200]>\n"
    }
   ],
   "source": [
    "print(response)"
   ]
  },
  {
   "cell_type": "code",
   "execution_count": 59,
   "metadata": {
    "tags": []
   },
   "outputs": [
    {
     "output_type": "stream",
     "name": "stdout",
     "text": "<!DOCTYPE html>\n<html class=\"client-nojs\" dir=\"ltr\" lang=\"en\">\n <head>\n  <meta charset=\"utf-8\"/>\n  <title>\n   File:T--BITSPilani-Goa India--logo.jpg - 2020.igem.org\n  </title>\n  <meta content=\"MediaWiki 1.24.1\" name=\"generator\"/>\n  <link href=\"/wiki/index.php?title=File:T--BITSPilani-Goa_India--logo.jpg&amp;action=edit\" rel=\"alternate\" title=\"Edit\" type=\"application/x-wiki\"/>\n  <link href=\"/wiki/index.php?title=File:T--BITSPilani-Goa_India--logo.jpg&amp;action=edit\" rel=\"edit\" title=\"Edit\"/>\n  <link href=\"/favicon.ico\" rel=\"shortcut icon\"/>\n  <link href=\"/wiki/opensearch_desc.php\" rel=\"search\" title=\"2020.igem.org (en)\" type=\"application/opensearchdescription+xml\"/>\n  <link href=\"/File:T--BITSPilani-Goa_India--logo.jpg\" hreflang=\"x-default\" rel=\"alternate\"/>\n  <link href=\"https://creativecommons.org/licenses/by/3.0/\" rel=\"copyright\"/>\n  <link href=\"/wiki/index.php?title=Special:RecentChanges&amp;feed=atom\" rel=\"alternate\" title=\"2020.igem.org Atom feed\" type=\"application/atom+xml\"/>\n  <link href=\"https://2020.igem.org/wiki/load.php?debug=false&amp;lang=en&amp;modules=mediawiki.legacy.commonPrint%2Cshared%7Cmediawiki.skinning.content.externallinks%7Cmediawiki.skinning.interface%7Cmediawiki.ui.button%7Cskins.igem.styles&amp;only=styles&amp;skin=igem&amp;*\" rel=\"stylesheet\"/>\n  <!--[if IE 6]><link rel=\"stylesheet\" href=\"/wiki/skins/Igem/IE60Fixes.css?303\" media=\"screen\" /><![endif]-->\n  <!--[if IE 7]><link rel=\"stylesheet\" href=\"/wiki/skins/Igem/IE70Fixes.css?303\" media=\"screen\" /><![endif]-->\n  <meta content=\"\" name=\"ResourceLoaderDynamicStyles\"/>\n  <style>\n   a:lang(ar),a:lang(kk-arab),a:lang(mzn),a:lang(ps),a:lang(ur){text-decoration:none}\n/* cache key: 2021_igem_org:resourceloader:filter:minify-css:7:329647e7075f31ea1bfe23cc06e29c9e */\n  </style>\n  <script src=\"https://2020.igem.org/wiki/load.php?debug=false&amp;lang=en&amp;modules=startup&amp;only=scripts&amp;skin=igem&amp;*\">\n  </script>\n  <script>\n   if(window.mw){\nmw.config.set({\"wgCanonicalNamespace\":\"File\",\"wgCanonicalSpecialPageName\":false,\"wgNamespaceNumber\":6,\"wgPageName\":\"File:T--BITSPilani-Goa_India--logo.jpg\",\"wgTitle\":\"T--BITSPilani-Goa India--logo.jpg\",\"wgCurRevisionId\":20434,\"wgRevisionId\":20434,\"wgArticleId\":8938,\"wgIsArticle\":true,\"wgIsRedirect\":false,\"wgAction\":\"view\",\"wgUserName\":\"Ballaneypranav\",\"wgUserGroups\":[\"*\",\"user\",\"autoconfirmed\"],\"wgCategories\":[],\"wgBreakFrames\":false,\"wgPageContentLanguage\":\"en\",\"wgPageContentModel\":\"wikitext\",\"wgSeparatorTransformTable\":[\"\",\"\"],\"wgDigitTransformTable\":[\"\",\"\"],\"wgDefaultDateFormat\":\"dmy\",\"wgMonthNames\":[\"\",\"January\",\"February\",\"March\",\"April\",\"May\",\"June\",\"July\",\"August\",\"September\",\"October\",\"November\",\"December\"],\"wgMonthNamesShort\":[\"\",\"Jan\",\"Feb\",\"Mar\",\"Apr\",\"May\",\"Jun\",\"Jul\",\"Aug\",\"Sep\",\"Oct\",\"Nov\",\"Dec\"],\"wgRelevantPageName\":\"File:T--BITSPilani-Goa_India--logo.jpg\",\"wgUserId\":2730,\"wgUserEditCount\":63,\"wgUserRegistration\":1590152581000,\"wgUserNewMsgRevisionId\":null,\"wgIsProbablyEditable\":true,\"wgRestrictionEdit\":[],\"wgRestrictionMove\":[],\"wgRestrictionUpload\":[]});\n}\n  </script>\n  <script>\n   if(window.mw){\nmw.loader.implement(\"user.options\",function($,jQuery){mw.user.options.set({\"ccmeonemails\":0,\"cols\":80,\"date\":\"default\",\"diffonly\":0,\"disablemail\":0,\"editfont\":\"default\",\"editondblclick\":0,\"editsectiononrightclick\":0,\"enotifminoredits\":0,\"enotifrevealaddr\":0,\"enotifusertalkpages\":1,\"enotifwatchlistpages\":1,\"extendwatchlist\":0,\"fancysig\":0,\"forceeditsummary\":0,\"gender\":\"unknown\",\"hideminor\":0,\"hidepatrolled\":0,\"imagesize\":2,\"math\":1,\"minordefault\":0,\"newpageshidepatrolled\":0,\"nickname\":\"\",\"norollbackdiff\":0,\"numberheadings\":0,\"previewonfirst\":0,\"previewontop\":1,\"rcdays\":7,\"rclimit\":50,\"rows\":25,\"showhiddencats\":0,\"shownumberswatching\":1,\"showtoolbar\":1,\"skin\":\"igem\",\"stubthreshold\":0,\"thumbsize\":5,\"underline\":2,\"uselivepreview\":0,\"usenewrc\":1,\"watchcreations\":1,\"watchdefault\":1,\"watchdeletion\":0,\"watchlistdays\":3,\"watchlisthideanons\":0,\"watchlisthidebots\":0,\"watchlisthideliu\":0,\"watchlisthideminor\":0,\"watchlisthideown\":0,\"watchlisthidepatrolled\":0,\"watchmoves\":0,\"watchrollback\":0,\n\"wllimit\":250,\"useeditwarning\":1,\"prefershttps\":1,\"language\":\"en\",\"variant-gan\":\"gan\",\"variant-iu\":\"iu\",\"variant-kk\":\"kk\",\"variant-ku\":\"ku\",\"variant-shi\":\"shi\",\"variant-sr\":\"sr\",\"variant-tg\":\"tg\",\"variant-uz\":\"uz\",\"variant-zh\":\"zh\",\"searchNs0\":true,\"searchNs1\":false,\"searchNs2\":false,\"searchNs3\":false,\"searchNs4\":false,\"searchNs5\":false,\"searchNs6\":false,\"searchNs7\":false,\"searchNs8\":false,\"searchNs9\":false,\"searchNs10\":false,\"searchNs11\":false,\"searchNs12\":false,\"searchNs13\":false,\"searchNs14\":false,\"searchNs15\":false,\"watchlisttoken\":\"d8f6775432c22c27373dfb9f09080c91b5533ade\"});},{},{});mw.loader.implement(\"user.tokens\",function($,jQuery){mw.user.tokens.set({\"editToken\":\"7a97da4551aa39c04cf0f4513f73b943+\\\\\",\"patrolToken\":\"eccab6e2d6b97f63330a5d89ebd4861f+\\\\\",\"watchToken\":\"2548ac0faa6a4a246a002e19bed0f985+\\\\\"});},{},{});\n/* cache key: 2020_igem_org:resourceloader:filter:minify-js:7:e3c6fd23e72cbcb6d13f11b5e1624500 */\n}\n  </script>\n  <script>\n   if(window.mw){\nmw.loader.load([\"mediawiki.page.startup\",\"mediawiki.legacy.wikibits\",\"mediawiki.legacy.ajax\"]);\n}\n  </script>\n </head>\n <body class=\"mediawiki ltr sitedir-ltr ns-6 ns-subject page-File_T--BITSPilani-Goa_India--logo_jpg skin-igem action-view\">\n  <script src=\"/common/tablesorter/jquery.tablesorter.min.js\" type=\"text/javascript\">\n  </script>\n  <link href=\"/common/tablesorter/themes/groupparts/style.css\" rel=\"stylesheet\" type=\"text/css\"/>\n  <link href=\"/common/table_styles.css\" rel=\"stylesheet\" type=\"text/css\"/>\n  <script src=\"/wiki/skins/Igem/resources/2020_skin.js\" type=\"text/javascript\">\n  </script>\n  <div id=\"globalWrapper\">\n   <div class=\"noprint\" id=\"top_menu_under\">\n   </div>\n   <div class=\"noprint\" id=\"top_menu_14\">\n    Loading menubar.....\n   </div>\n   <!-- Will be replaced with the jQuery.load -->\n   <script>\n    jQuery('#top_menu_14').load('https://2020.igem.org/cgi/top_menu_14/menubar_reply.cgi',\n\t\t\t\t\t\t    {   t:\"File%3AT--BITSPilani-Goa%20India--logo.jpg\",\n\t\t\t\t\t\t\ta:\"View+%2FFile%3AT--BITSPilani-Goa_India--logo.jpg++Edit+%2Fwiki%2Findex.php%3Ftitle%3DFile%3AT--BITSPilani-Goa_India--logo.jpg%26action%3Dedit++History+%2Fwiki%2Findex.php%3Ftitle%3DFile%3AT--BITSPilani-Goa_India--logo.jpg%26action%3Dhistory++Move+%2FSpecial%3AMovePage%2FFile%3AT--BITSPilani-Goa_India--logo.jpg++Unwatch+%2Fwiki%2Findex.php%3Ftitle%3DFile%3AT--BITSPilani-Goa_India--logo.jpg%26action%3Dunwatch%26token%3D9c785706746e3cee76db9aaa94b54593%252B%255C++File+%2FFile%3AT--BITSPilani-Goa_India--logo.jpg++Discussion+%2Fwiki%2Findex.php%3Ftitle%3DFile_talk%3AT--BITSPilani-Goa_India--logo.jpg%26action%3Dedit%26redlink%3D1++\" });\n   </script>\n   <!-- Content div contains HQ_page for HQ styles, Logo and title div, and USER CONTENT -->\n   <div class=\"mw-body\" id=\"content\" role=\"main\">\n    <a id=\"top\">\n    </a>\n    <div id=\"top_title\">\n     <div class=\"logo_2020\">\n      <a href=\"https://2020.igem.org\">\n       <img src=\"https://2020.igem.org/wiki/images/8/8b/HQ_page_logo.jpg\" width=\"100px\"/>\n      </a>\n     </div>\n     <h1 class=\"firstHeading\" id=\"firstHeading\">\n      <span dir=\"auto\">\n       File:T--BITSPilani-Goa India--logo.jpg\n      </span>\n     </h1>\n    </div>\n    <div id=\"HQ_page\">\n     <div id=\"bodyContent\">\n      <div id=\"mw-content-text\">\n       <ul id=\"filetoc\">\n        <li>\n         <a href=\"#file\">\n          File\n         </a>\n        </li>\n        <li>\n         <a href=\"#filehistory\">\n          File history\n         </a>\n        </li>\n        <li>\n         <a href=\"#filelinks\">\n          File usage\n         </a>\n        </li>\n       </ul>\n       <div class=\"fullImageLink\" id=\"file\">\n        <a href=\"/wiki/images/1/15/T--BITSPilani-Goa_India--logo.jpg\">\n         <img alt=\"File:T--BITSPilani-Goa India--logo.jpg\" height=\"407\" src=\"/wiki/images/1/15/T--BITSPilani-Goa_India--logo.jpg\" width=\"543\"/>\n        </a>\n        <div class=\"mw-filepage-resolutioninfo\">\n         No higher resolution available.\n        </div>\n       </div>\n       <div class=\"fullMedia\">\n        <a class=\"internal\" href=\"/wiki/images/1/15/T--BITSPilani-Goa_India--logo.jpg\" title=\"T--BITSPilani-Goa India--logo.jpg\">\n         T--BITSPilani-Goa_India--logo.jpg\n        </a>\n        ‎\n        <span class=\"fileInfo\">\n         (543 × 407 pixels, file size: 41 KB, MIME type: image/jpeg)\n        </span>\n       </div>\n       <div class=\"mw-content-ltr\" dir=\"ltr\" id=\"mw-imagepage-content\" lang=\"en\">\n        <p>\n         BITSPilani-Goa_India team logo\n        </p>\n        <!-- \nNewPP limit report\nCPU time usage: 0.001 seconds\nReal time usage: 0.001 seconds\nPreprocessor visited node count: 1/1000000\nPreprocessor generated node count: 4/1000000\nPost‐expand include size: 0/2097152 bytes\nTemplate argument size: 0/2097152 bytes\nHighest expansion depth: 1/40\nExpensive parser function count: 0/100\n-->\n        <!-- Saved in parser cache with key 2020_igem_org:pcache:idhash:8938-0!*!*!*!*!*!* and timestamp 20200707021800 and revision id 20434\n -->\n       </div>\n       <h2 id=\"filehistory\">\n        File history\n       </h2>\n       <div id=\"mw-imagepage-section-filehistory\">\n        <p>\n         Click on a date/time to view the file as it appeared at that time.\n        </p>\n        <table class=\"wikitable filehistory\">\n         <tr>\n          <td>\n          </td>\n          <th>\n           Date/Time\n          </th>\n          <th>\n           Thumbnail\n          </th>\n          <th>\n           Dimensions\n          </th>\n          <th>\n           User\n          </th>\n          <th>\n           Comment\n          </th>\n         </tr>\n         <tr>\n          <td>\n           current\n          </td>\n          <td class=\"filehistory-selected\" style=\"white-space: nowrap;\">\n           <a href=\"/wiki/images/1/15/T--BITSPilani-Goa_India--logo.jpg\">\n            02:17, 7 July 2020\n           </a>\n          </td>\n          <td>\n           <a href=\"/wiki/images/1/15/T--BITSPilani-Goa_India--logo.jpg\">\n            <img alt=\"Thumbnail for version as of 02:17, 7 July 2020\" height=\"90\" src=\"/wiki/images/thumb/1/15/T--BITSPilani-Goa_India--logo.jpg/120px-T--BITSPilani-Goa_India--logo.jpg\" width=\"120\"/>\n           </a>\n          </td>\n          <td>\n           543 × 407\n           <span style=\"white-space: nowrap;\">\n            (41 KB)\n           </span>\n          </td>\n          <td>\n           <a class=\"new mw-userlink\" href=\"/wiki/index.php?title=User:Ballaneypranav&amp;action=edit&amp;redlink=1\" title=\"User:Ballaneypranav (page does not exist)\">\n            Ballaneypranav\n           </a>\n           <span style=\"white-space: nowrap;\">\n            <span class=\"mw-usertoollinks\">\n             (\n             <a class=\"new\" href=\"/wiki/index.php?title=User_talk:Ballaneypranav&amp;action=edit&amp;redlink=1\" title=\"User talk:Ballaneypranav (page does not exist)\">\n              Talk\n             </a>\n             |\n             <a href=\"/Special:Contributions/Ballaneypranav\" title=\"Special:Contributions/Ballaneypranav\">\n              contribs\n             </a>\n             )\n            </span>\n           </span>\n          </td>\n          <td dir=\"ltr\">\n          </td>\n         </tr>\n         <tr>\n          <td>\n           <a href=\"/wiki/index.php?title=File:T--BITSPilani-Goa_India--logo.jpg&amp;action=revert&amp;oldimage=20200707021759%21T--BITSPilani-Goa_India--logo.jpg&amp;wpEditToken=2c955a9d8b4d777682ba61fa51082bae%2B%5C\" title=\"File:T--BITSPilani-Goa India--logo.jpg\">\n            revert\n           </a>\n          </td>\n          <td style=\"white-space: nowrap;\">\n           <a href=\"/wiki/images/archive/1/15/20200707021759%21T--BITSPilani-Goa_India--logo.jpg\">\n            01:52, 7 July 2020\n           </a>\n          </td>\n          <td>\n           <a href=\"/wiki/images/archive/1/15/20200707021759%21T--BITSPilani-Goa_India--logo.jpg\">\n            <img alt=\"Thumbnail for version as of 01:52, 7 July 2020\" height=\"90\" src=\"/wiki/images/thumb/archive/1/15/20200707021759%21T--BITSPilani-Goa_India--logo.jpg/120px-T--BITSPilani-Goa_India--logo.jpg\" width=\"120\"/>\n           </a>\n          </td>\n          <td>\n           543 × 407\n           <span style=\"white-space: nowrap;\">\n            (41 KB)\n           </span>\n          </td>\n          <td>\n           <a class=\"new mw-userlink\" href=\"/wiki/index.php?title=User:Ballaneypranav&amp;action=edit&amp;redlink=1\" title=\"User:Ballaneypranav (page does not exist)\">\n            Ballaneypranav\n           </a>\n           <span style=\"white-space: nowrap;\">\n            <span class=\"mw-usertoollinks\">\n             (\n             <a class=\"new\" href=\"/wiki/index.php?title=User_talk:Ballaneypranav&amp;action=edit&amp;redlink=1\" title=\"User talk:Ballaneypranav (page does not exist)\">\n              Talk\n             </a>\n             |\n             <a href=\"/Special:Contributions/Ballaneypranav\" title=\"Special:Contributions/Ballaneypranav\">\n              contribs\n             </a>\n             )\n            </span>\n           </span>\n          </td>\n          <td dir=\"ltr\">\n           BITSPilani-Goa_India team logo\n          </td>\n         </tr>\n        </table>\n       </div>\n       <ul>\n        <li id=\"mw-imagepage-reupload-link\">\n         <div class=\"plainlinks\">\n          <a class=\"external\" href=\"https://2020.igem.org/wiki/index.php?title=Special:Upload&amp;wpDestFile=T--BITSPilani-Goa_India--logo.jpg&amp;wpForReUpload=1\" rel=\"nofollow\">\n           Upload a new version of this file\n          </a>\n         </div>\n        </li>\n       </ul>\n       <h2 id=\"filelinks\">\n        File usage\n       </h2>\n       <div id=\"mw-imagepage-nolinkstoimage\">\n        <p>\n         There are no pages that link to this file.\n        </p>\n       </div>\n      </div>\n      <div class=\"visualClear\">\n      </div>\n     </div>\n    </div>\n   </div>\n  </div>\n </body>\n</html>\n\n"
    }
   ],
   "source": [
    "print(browser.get_current_page().prettify())"
   ]
  },
  {
   "cell_type": "code",
   "execution_count": 60,
   "metadata": {
    "tags": []
   },
   "outputs": [
    {
     "output_type": "stream",
     "name": "stdout",
     "text": "/wiki/images/1/15/T--BITSPilani-Goa_India--logo.jpg\n"
    }
   ],
   "source": [
    "div = browser.get_current_page().find(class_='fullMedia').find('a')\n",
    "print(div['href'])"
   ]
  },
  {
   "cell_type": "code",
   "execution_count": 32,
   "metadata": {},
   "outputs": [
    {
     "output_type": "execute_result",
     "data": {
      "text/plain": "1"
     },
     "metadata": {},
     "execution_count": 32
    }
   ],
   "source": [
    "len(div)"
   ]
  },
  {
   "cell_type": "code",
   "execution_count": null,
   "metadata": {},
   "outputs": [],
   "source": []
  }
 ],
 "metadata": {
  "language_info": {
   "codemirror_mode": {
    "name": "ipython",
    "version": 3
   },
   "file_extension": ".py",
   "mimetype": "text/x-python",
   "name": "python",
   "nbconvert_exporter": "python",
   "pygments_lexer": "ipython3",
   "version": "3.7.5-final"
  },
  "orig_nbformat": 2,
  "kernelspec": {
   "name": "python37564bit46f60de5514a4b5480af032435df6bab",
   "display_name": "Python 3.7.5 64-bit"
  }
 },
 "nbformat": 4,
 "nbformat_minor": 2
}