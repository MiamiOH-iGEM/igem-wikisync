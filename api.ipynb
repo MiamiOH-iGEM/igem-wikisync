{
 "cells": [
  {
   "cell_type": "code",
   "execution_count": 44,
   "metadata": {},
   "outputs": [],
   "source": [
    "from requests.adapters import HTTPAdapter\n",
    "from requests.packages.urllib3.poolmanager import PoolManager\n",
    "import ssl\n",
    "import mechanicalsoup\n",
    "from bs4 import BeautifulSoup\n",
    "import os\n",
    "import yaml\n",
    "from http.cookiejar import LWPCookieJar\n",
    "from datetime import datetime"
   ]
  },
  {
   "cell_type": "code",
   "execution_count": 45,
   "metadata": {},
   "outputs": [],
   "source": [
    "class MyAdapter(HTTPAdapter):\n",
    "    def init_poolmanager(self, connections, maxsize, block=False):\n",
    "        self.poolmanager = PoolManager(num_pools=connections,\n",
    "                                       maxsize=maxsize,\n",
    "                                       block=block,\n",
    "                                       ssl_version=ssl.PROTOCOL_TLSv1)\n"
   ]
  },
  {
   "cell_type": "code",
   "execution_count": 46,
   "metadata": {},
   "outputs": [],
   "source": [
    "with open('config.yml', 'r') as file:\n",
    "    config = yaml.safe_load(file)\n",
    "\n",
    "team = config['team']\n",
    "src_dir = config['src_dir']\n",
    "build_dir = config['build_dir']\n"
   ]
  },
  {
   "cell_type": "code",
   "execution_count": 47,
   "metadata": {
    "tags": []
   },
   "outputs": [],
   "source": [
    "browser = mechanicalsoup.StatefulBrowser()\n",
    "\n",
    "# cookie_file = 'igemwiki-upload.cookies'\n",
    "# cookiejar = LWPCookieJar(cookie_file)\n",
    "# if os.path.exists(cookie_file):\n",
    "#     cookiejar.load()\n",
    "# browser.set_cookiejar(cookiejar)"
   ]
  },
  {
   "cell_type": "code",
   "execution_count": 69,
   "metadata": {},
   "outputs": [],
   "source": [
    "response = browser.open(\"https://2020.igem.org/Team:\" + team + '/' + str(datetime.now().microsecond ** 2))"
   ]
  },
  {
   "cell_type": "code",
   "execution_count": 70,
   "metadata": {
    "tags": []
   },
   "outputs": [
    {
     "output_type": "stream",
     "name": "stdout",
     "text": "https://2020.igem.org/Team:BITSPilani-Goa_India/88075994176\n"
    }
   ],
   "source": [
    "page = browser.get_url()\n",
    "print(page)\n",
    "# soup = BeautifulSoup(page, 'html5lib')"
   ]
  },
  {
   "cell_type": "code",
   "execution_count": 63,
   "metadata": {},
   "outputs": [],
   "source": [
    "message = soup.find('.noarticletext')"
   ]
  },
  {
   "cell_type": "code",
   "execution_count": 65,
   "metadata": {},
   "outputs": [
    {
     "output_type": "execute_result",
     "data": {
      "text/plain": "'<html>\\n <head>\\n </head>\\n <body>\\n  Team:BITSPilani-Goa India/123170 - 2020.igem.org\\n\\n\\n\\n\\n\\n\\n\\n\\n\\n\\n\\n\\n\\n\\n\\n\\n\\n\\n\\n\\n\\n\\nLoading menubar..... \\n\\n\\n\\n\\n\\n\\n\\n\\n\\n\\n\\nTeam:BITSPilani-Goa India/123170\\n\\n\\n\\n\\n\\nThere is currently no text in this page.\\nYou can search for this page title in other pages, or search the related logs, but you do not have permission to create this page.\\n </body>\\n</html>'"
     },
     "metadata": {},
     "execution_count": 65
    }
   ],
   "source": [
    "soup.prettify()"
   ]
  },
  {
   "cell_type": "markdown",
   "metadata": {},
   "source": []
  }
 ],
 "metadata": {
  "language_info": {
   "codemirror_mode": {
    "name": "ipython",
    "version": 3
   },
   "file_extension": ".py",
   "mimetype": "text/x-python",
   "name": "python",
   "nbconvert_exporter": "python",
   "pygments_lexer": "ipython3",
   "version": "3.7.5-final"
  },
  "orig_nbformat": 2,
  "kernelspec": {
   "name": "python37564bit46f60de5514a4b5480af032435df6bab",
   "display_name": "Python 3.7.5 64-bit"
  }
 },
 "nbformat": 4,
 "nbformat_minor": 2
}