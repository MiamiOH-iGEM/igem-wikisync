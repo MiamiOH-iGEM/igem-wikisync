{
 "cells": [
  {
   "cell_type": "code",
   "execution_count": 39,
   "metadata": {},
   "outputs": [],
   "source": [
    "from requests.adapters import HTTPAdapter\n",
    "from requests.packages.urllib3.poolmanager import PoolManager\n",
    "import ssl\n",
    "from bs4 import BeautifulSoup\n",
    "import mechanicalsoup\n",
    "import os\n",
    "import yaml\n",
    "import re\n",
    "import cssutils\n",
    "from jsmin import jsmin\n",
    "from datetime import datetime"
   ]
  },
  {
   "cell_type": "code",
   "execution_count": 40,
   "metadata": {},
   "outputs": [],
   "source": [
    "# https://bitbucket.org/cthedot/cssutils/issues/60/using-units-of-rem-produces-an-invalid\n",
    "\n",
    "from cssutils import profile\n",
    "profile._MACROS['length'] = r'0|{num}(em|ex|px|in|cm|mm|pt|pc|q|ch|rem|vw|vh|vmin|vmax)'\n",
    "profile._MACROS['positivelength'] = r'0|{positivenum}(em|ex|px|in|cm|mm|pt|pc|q|ch|rem|vw|vh|vmin|vmax)'\n",
    "profile._MACROS['angle'] = r'0|{num}(deg|grad|rad|turn)'\n",
    "profile._resetProperties()"
   ]
  },
  {
   "cell_type": "code",
   "execution_count": 41,
   "metadata": {},
   "outputs": [],
   "source": [
    "class MyAdapter(HTTPAdapter):\n",
    "    def init_poolmanager(self, connections, maxsize, block=False):\n",
    "        self.poolmanager = PoolManager(num_pools=connections,\n",
    "                                       maxsize=maxsize,\n",
    "                                       block=block,\n",
    "                                       ssl_version=ssl.PROTOCOL_TLSv1)\n"
   ]
  },
  {
   "cell_type": "code",
   "execution_count": 42,
   "metadata": {},
   "outputs": [],
   "source": [
    "with open('config.yml', 'r') as file:\n",
    "    config = yaml.safe_load(file)\n",
    "\n",
    "team = config['team']\n",
    "html = config['html']\n",
    "css  = config['css']\n",
    "js   = config['js']\n"
   ]
  },
  {
   "cell_type": "code",
   "execution_count": 43,
   "metadata": {},
   "outputs": [],
   "source": [
    "def URLreplace(relative, extension):\n",
    "    if re.match('http', relative):\n",
    "        return relative\n",
    "    else:\n",
    "        extension = extension.upper()\n",
    "        if extension == 'CSS':\n",
    "            type = 'css'\n",
    "        elif extension == 'JS':\n",
    "            type = 'javascript'\n",
    "        absolute = os.path.splitext(relative)[0] + extension\n",
    "        absolute = 'https://2020.igem.org/Template:' + team + '/' + absolute + \\\n",
    "                        '?action=raw' + '&' + 'ctype=text/' + type\n",
    "        return absolute\n",
    "    "
   ]
  },
  {
   "cell_type": "code",
   "execution_count": 102,
   "metadata": {},
   "outputs": [],
   "source": [
    "def uploadURL(relative, extension):\n",
    "    if re.match('http', relative):\n",
    "        return relative\n",
    "    else:\n",
    "        extension = extension.lower()\n",
    "        if extension == 'html':\n",
    "            relative = os.path.dirname(relative)\n",
    "            if relative != '':\n",
    "                relative = '/' + relative\n",
    "            return 'https://2020.igem.org/wiki/index.php?title=Team:' + team + relative + '&action=edit'\n",
    "        elif extension == 'css' or extension == 'js':\n",
    "            extension = extension.upper()\n",
    "            final = os.path.splitext(relative)[0] + extension\n",
    "            return 'https://2020.igem.org/wiki/index.php?title=Template:' + team + '/' + final + '&action=edit'"
   ]
  },
  {
   "cell_type": "code",
   "execution_count": 52,
   "metadata": {},
   "outputs": [],
   "source": [
    "username = 'ballaneypranav'\n",
    "password = 'xWTs5wUKxb2Njx'"
   ]
  },
  {
   "cell_type": "code",
   "execution_count": 53,
   "metadata": {
    "tags": []
   },
   "outputs": [
    {
     "output_type": "stream",
     "name": "stdout",
     "text": "<input name=\"return_to\" type=\"hidden\" value=\"\"/>\n<input name=\"username\" size=\"20\" type=\"text\" value=\"\"/>\n<input name=\"password\" size=\"20\" type=\"password\" value=\"\"/>\n<input class=\"submit\" name=\"Login\" type=\"submit\" value=\"Login\"/>\n<input class=\"link_text\" name=\"mail_password\" type=\"submit\" value=\"Email me a new password\"/>\n"
    }
   ],
   "source": [
    "browser = mechanicalsoup.StatefulBrowser()\n",
    "browser.open(\"https://igem.org/Login2\")\n",
    "browser.select_form('form[method=\"post\"]')\n",
    "browser[\"username\"] = username\n",
    "browser[\"password\"] = password\n",
    "response = browser.submit_selected()"
   ]
  },
  {
   "cell_type": "code",
   "execution_count": 54,
   "metadata": {
    "tags": []
   },
   "outputs": [
    {
     "output_type": "stream",
     "name": "stdout",
     "text": "<div style='width:500px;margin:0px auto;padding:20px;background-color:white;'>You have successfully logged into the iGEM web sites.</div>\n"
    }
   ],
   "source": [
    "print(response.text)"
   ]
  },
  {
   "cell_type": "code",
   "execution_count": 94,
   "metadata": {},
   "outputs": [],
   "source": [
    "def iGEMupload(filename, url):\n",
    "    with open(filename, 'r') as file:\n",
    "        contents = file.read()\n",
    "    print('Uploading ' + filename + ' to ' + url)\n",
    "    browser.open(url)\n",
    "    browser.select_form('form')\n",
    "    browser['wpTextbox1'] = contents\n",
    "    browser['wpSummary'] = 'Uploaded using an API at ' + str(datetime.now())\n",
    "    browser.submit_selected()"
   ]
  },
  {
   "cell_type": "code",
   "execution_count": 93,
   "metadata": {
    "tags": []
   },
   "outputs": [
    {
     "output_type": "stream",
     "name": "stdout",
     "text": "https://2020.igem.org/Template:BITSPilani-Goa_India/css/indexCSS?action=raw&ctype=text/css\nhttps://2020.igem.org/Template:BITSPilani-Goa_India/js/indexJS?action=raw&ctype=text/javascript\n"
    }
   ],
   "source": [
    "# process HTML files\n",
    "for filename in html:\n",
    "    outfile  = 'igem/' + filename\n",
    "    infile   = 'dist/' + filename\n",
    "    with open(infile, 'r') as file:\n",
    "        source = file.read()\n",
    "        soup = BeautifulSoup(source, 'html.parser')\n",
    "\n",
    "        css_tags = soup.findAll('link')\n",
    "        for css_tag in css_tags:\n",
    "            css_tag['href'] = URLreplace(css_tag['href'], 'css')\n",
    "            print(css_tag['href'])\n",
    "\n",
    "        js_tags = soup.findAll('script')\n",
    "        for js_tag in js_tags:\n",
    "            js_tag['src'] = URLreplace(js_tag['src'], 'js')\n",
    "            print(js_tag['src'])\n",
    "\n",
    "    with open(outfile, 'w') as f_output:\n",
    "        f_output.write(str(soup))\n",
    "    \n",
    "    url = uploadURL(filename, 'html')\n",
    "    iGEMupload(outfile, url)"
   ]
  },
  {
   "cell_type": "code",
   "execution_count": 103,
   "metadata": {
    "tags": []
   },
   "outputs": [
    {
     "output_type": "stream",
     "name": "stdout",
     "text": "Uploading igem/css/indexCSS to https://2020.igem.org/wiki/index.php?title=Template:BITSPilani-Goa_India/css/indexCSS&action=edit\n"
    }
   ],
   "source": [
    "if not os.path.exists('igem/css'):\n",
    "    os.makedirs('igem/css')\n",
    "cssutils.ser.prefs.useMinified()\n",
    "for filename in css:\n",
    "    filename = 'css/' + filename\n",
    "    outfile = 'igem/' + filename[:-4] + 'CSS'\n",
    "    infile = 'dist/' + filename\n",
    "    sheet = cssutils.parseFile(infile)\n",
    "    with open(outfile, 'wb') as f:\n",
    "        f.write(sheet.cssText)\n",
    "\n",
    "    url = uploadURL(filename, 'css')\n",
    "    iGEMupload(outfile, url)"
   ]
  },
  {
   "cell_type": "code",
   "execution_count": 111,
   "metadata": {
    "tags": []
   },
   "outputs": [
    {
     "output_type": "stream",
     "name": "stdout",
     "text": "Uploading igem/js/indexJS to https://2020.igem.org/wiki/index.php?title=Template:BITSPilani-Goa_India/js/indexJS&action=edit\n"
    }
   ],
   "source": [
    "if not os.path.exists('igem/js'):\n",
    "    os.makedirs('igem/js')\n",
    "for filename in js:\n",
    "    filename = 'js/' + filename\n",
    "    outfile = 'igem/' + filename[:-3] + 'JS'\n",
    "    infile = 'dist/' + filename\n",
    "    with open(infile, 'r') as f:\n",
    "        script = f.read()\n",
    "    \n",
    "    script = jsmin(script)\n",
    "    \n",
    "    with open(outfile, 'w') as f:\n",
    "        f.write(script)\n",
    "\n",
    "    url = uploadURL(filename, 'js')\n",
    "    iGEMupload(outfile, url)"
   ]
  }
 ],
 "metadata": {
  "language_info": {
   "codemirror_mode": {
    "name": "ipython",
    "version": 3
   },
   "file_extension": ".py",
   "mimetype": "text/x-python",
   "name": "python",
   "nbconvert_exporter": "python",
   "pygments_lexer": "ipython3",
   "version": "3.7.5-final"
  },
  "orig_nbformat": 2,
  "kernelspec": {
   "name": "python37564bit46f60de5514a4b5480af032435df6bab",
   "display_name": "Python 3.7.5 64-bit"
  }
 },
 "nbformat": 4,
 "nbformat_minor": 2
}