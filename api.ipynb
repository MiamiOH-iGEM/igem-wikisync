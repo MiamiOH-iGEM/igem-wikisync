{
 "cells": [
  {
   "cell_type": "code",
   "execution_count": 1,
   "metadata": {},
   "outputs": [],
   "source": [
    "from requests.adapters import HTTPAdapter"
   ]
  },
  {
   "cell_type": "code",
   "execution_count": 2,
   "metadata": {},
   "outputs": [],
   "source": [
    "from requests.packages.urllib3.poolmanager import PoolManager\n",
    "import ssl\n",
    "import mechanicalsoup"
   ]
  },
  {
   "cell_type": "code",
   "execution_count": 3,
   "metadata": {},
   "outputs": [],
   "source": [
    "class MyAdapter(HTTPAdapter):\n",
    "    def init_poolmanager(self, connections, maxsize, block=False):\n",
    "        self.poolmanager = PoolManager(num_pools=connections,\n",
    "                                       maxsize=maxsize,\n",
    "                                       block=block,\n",
    "                                       ssl_version=ssl.PROTOCOL_TLSv1)"
   ]
  },
  {
   "cell_type": "code",
   "execution_count": 4,
   "metadata": {},
   "outputs": [],
   "source": [
    "data = {\n",
    "    'username': 'ballaneypranav',\n",
    "    'password': 'Pza29kgNwLuyyz',\n",
    "    'Login'   : 'Login'\n",
    "}"
   ]
  },
  {
   "cell_type": "code",
   "execution_count": 5,
   "metadata": {},
   "outputs": [],
   "source": [
    "browser = mechanicalsoup.StatefulBrowser()"
   ]
  },
  {
   "cell_type": "code",
   "execution_count": 6,
   "metadata": {},
   "outputs": [
    {
     "output_type": "execute_result",
     "data": {
      "text/plain": "<Response [200]>"
     },
     "metadata": {},
     "execution_count": 6
    }
   ],
   "source": [
    "browser.open(\"https://igem.org/Login2\")"
   ]
  },
  {
   "cell_type": "code",
   "execution_count": 7,
   "metadata": {},
   "outputs": [
    {
     "output_type": "execute_result",
     "data": {
      "text/plain": "<mechanicalsoup.form.Form at 0x7fcca640a890>"
     },
     "metadata": {},
     "execution_count": 7
    }
   ],
   "source": [
    "browser.select_form('form[method=\"post\"]')"
   ]
  },
  {
   "cell_type": "code",
   "execution_count": 8,
   "metadata": {
    "tags": []
   },
   "outputs": [
    {
     "output_type": "stream",
     "name": "stdout",
     "text": "<input name=\"return_to\" type=\"hidden\" value=\"\"/>\n<input name=\"username\" size=\"20\" type=\"text\" value=\"\"/>\n<input name=\"password\" size=\"20\" type=\"password\" value=\"\"/>\n<input class=\"submit\" name=\"Login\" type=\"submit\" value=\"Login\"/>\n<input class=\"link_text\" name=\"mail_password\" type=\"submit\" value=\"Email me a new password\"/>\n"
    }
   ],
   "source": [
    "browser.get_current_form().print_summary()"
   ]
  },
  {
   "cell_type": "code",
   "execution_count": 9,
   "metadata": {},
   "outputs": [],
   "source": [
    "browser[\"username\"] = data[\"username\"]\n",
    "browser[\"password\"] = data[\"password\"]"
   ]
  },
  {
   "cell_type": "code",
   "execution_count": 10,
   "metadata": {},
   "outputs": [],
   "source": [
    "response = browser.submit_selected()"
   ]
  },
  {
   "cell_type": "code",
   "execution_count": 11,
   "metadata": {
    "tags": []
   },
   "outputs": [
    {
     "output_type": "stream",
     "name": "stdout",
     "text": "<div style='width:500px;margin:0px auto;padding:20px;background-color:white;'>You have successfully logged into the iGEM web sites.</div>\n"
    }
   ],
   "source": [
    "print(response.text)"
   ]
  },
  {
   "cell_type": "code",
   "execution_count": 12,
   "metadata": {
    "tags": []
   },
   "outputs": [
    {
     "output_type": "stream",
     "name": "stdout",
     "text": "https://2020.igem.org/wiki/index.php?title=Team:BITSPilani-Goa_India&action=edit\n"
    }
   ],
   "source": [
    "team = 'BITSPilani-Goa_India'\n",
    "page = ''\n",
    "pageType = 'Team'\n",
    "year = '2020'\n",
    "url = 'https://' + year + '.igem.org/wiki/index.php?title=' + pageType + ':' + team + page + '&action=edit'\n",
    "print(url)"
   ]
  },
  {
   "cell_type": "code",
   "execution_count": 13,
   "metadata": {},
   "outputs": [
    {
     "output_type": "execute_result",
     "data": {
      "text/plain": "<Response [200]>"
     },
     "metadata": {},
     "execution_count": 13
    }
   ],
   "source": [
    "browser.open(url)"
   ]
  },
  {
   "cell_type": "code",
   "execution_count": 14,
   "metadata": {},
   "outputs": [
    {
     "output_type": "execute_result",
     "data": {
      "text/plain": "<mechanicalsoup.form.Form at 0x7fcca63143d0>"
     },
     "metadata": {},
     "execution_count": 14
    }
   ],
   "source": [
    "browser.select_form('form')"
   ]
  },
  {
   "cell_type": "code",
   "execution_count": 15,
   "metadata": {
    "tags": []
   },
   "outputs": [
    {
     "output_type": "stream",
     "name": "stdout",
     "text": "<input id=\"wpAntispam\" name=\"wpAntispam\" type=\"text\" value=\"\"/>\n<input name=\"wpSection\" type=\"hidden\" value=\"\"/>\n<input name=\"wpStarttime\" type=\"hidden\" value=\"20200624175800\"/>\n<input name=\"wpEdittime\" type=\"hidden\" value=\"20200624174745\"/>\n<input id=\"wpScrolltop\" name=\"wpScrolltop\" type=\"hidden\" value=\"\"/>\n<input name=\"wpAutoSummary\" type=\"hidden\" value=\"d41d8cd98f00b204e9800998ecf8427e\"/>\n<input name=\"oldid\" type=\"hidden\" value=\"0\"/>\n<input name=\"format\" type=\"hidden\" value=\"text/x-wiki\"/>\n<input name=\"model\" type=\"hidden\" value=\"wikitext\"/>\n<textarea accesskey=\",\" class=\"mw-ui-input\" cols=\"80\" dir=\"ltr\" id=\"wpTextbox1\" lang=\"en\" name=\"wpTextbox1\" rows=\"25\" style=\"\" tabindex=\"1\">{{BITSPilani-Goa_India}}\n{{BITSPilani-Goa_India/mainCSS}}\n\nhello</textarea>\n<input accesskey=\"b\" class=\"mw-summary mw-ui-input\" id=\"wpSummary\" maxlength=\"200\" name=\"wpSummary\" size=\"60\" spellcheck=\"true\" tabindex=\"1\" title=\"Enter a short summary [b]\"/>\n<input accesskey=\"i\" id=\"wpMinoredit\" name=\"wpMinoredit\" tabindex=\"3\" type=\"checkbox\" value=\"1\"/>\n<input accesskey=\"w\" checked=\"checked\" id=\"wpWatchthis\" name=\"wpWatchthis\" tabindex=\"4\" type=\"checkbox\" value=\"1\"/>\n<input accesskey=\"s\" id=\"wpSave\" name=\"wpSave\" tabindex=\"5\" title=\"Save your changes [s]\" type=\"submit\" value=\"Save page\"/>\n<input accesskey=\"p\" id=\"wpPreview\" name=\"wpPreview\" tabindex=\"6\" title=\"Preview your changes, please use this before saving! [p]\" type=\"submit\" value=\"Show preview\"/>\n<input accesskey=\"v\" id=\"wpDiff\" name=\"wpDiff\" tabindex=\"7\" title=\"Show which changes you made to the text [v]\" type=\"submit\" value=\"Show changes\"/>\n<input name=\"wpEditToken\" type=\"hidden\" value=\"0dceba2aceee4afa027c1b4f0a98d14f+\\\"/>\n<input name=\"wpUltimateParam\" type=\"hidden\" value=\"1\"/>\n"
    }
   ],
   "source": [
    "browser.get_current_form().print_summary()"
   ]
  },
  {
   "cell_type": "code",
   "execution_count": null,
   "metadata": {},
   "outputs": [],
   "source": []
  }
 ],
 "metadata": {
  "language_info": {
   "codemirror_mode": {
    "name": "ipython",
    "version": 3
   },
   "file_extension": ".py",
   "mimetype": "text/x-python",
   "name": "python",
   "nbconvert_exporter": "python",
   "pygments_lexer": "ipython3",
   "version": "3.7.5-final"
  },
  "orig_nbformat": 2,
  "kernelspec": {
   "name": "python37564bit46f60de5514a4b5480af032435df6bab",
   "display_name": "Python 3.7.5 64-bit"
  }
 },
 "nbformat": 4,
 "nbformat_minor": 2
}