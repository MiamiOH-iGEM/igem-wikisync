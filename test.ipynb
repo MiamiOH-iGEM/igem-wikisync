{
 "cells": [
  {
   "cell_type": "code",
   "execution_count": 1,
   "metadata": {},
   "outputs": [],
   "source": [
    "import re"
   ]
  },
  {
   "cell_type": "code",
   "execution_count": 6,
   "metadata": {},
   "outputs": [],
   "source": [
    "def check(url):\n",
    "    print(bool(re.match('(?:^[a-z][a-z0-9+.-]*:|\\/\\/)', url)))"
   ]
  },
  {
   "cell_type": "code",
   "execution_count": 8,
   "metadata": {
    "tags": []
   },
   "outputs": [],
   "source": [
    "items = ['hello', 'src/img.jpg', 'img.jpg', 'mailto:bp@g.com', 'https://gmail.com', 'http://gmail.com','http://www.gmail.com', '//gmail.com', 'view-source:google.com']"
   ]
  },
  {
   "cell_type": "code",
   "execution_count": 10,
   "metadata": {
    "tags": []
   },
   "outputs": [
    {
     "output_type": "stream",
     "name": "stdout",
     "text": "hello  False\nsrc/img.jpg  False\nimg.jpg  False\nmailto:bp@g.com  True\nhttps://gmail.com  True\nhttp://gmail.com  True\n//gmail.com  True\nview-source:google.com  True\n"
    }
   ],
   "source": [
    "for item in items:\n",
    "    print(item, end=\"  \")\n",
    "    check(item)"
   ]
  },
  {
   "cell_type": "code",
   "execution_count": null,
   "metadata": {},
   "outputs": [],
   "source": []
  }
 ],
 "metadata": {
  "language_info": {
   "codemirror_mode": {
    "name": "ipython",
    "version": 3
   },
   "file_extension": ".py",
   "mimetype": "text/x-python",
   "name": "python",
   "nbconvert_exporter": "python",
   "pygments_lexer": "ipython3",
   "version": "3.7.5-final"
  },
  "orig_nbformat": 2,
  "kernelspec": {
   "name": "python37564bit46f60de5514a4b5480af032435df6bab",
   "display_name": "Python 3.7.5 64-bit"
  }
 },
 "nbformat": 4,
 "nbformat_minor": 2
}